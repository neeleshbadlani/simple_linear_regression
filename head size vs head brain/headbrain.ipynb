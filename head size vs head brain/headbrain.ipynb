{
 "cells": [
  {
   "cell_type": "markdown",
   "metadata": {},
   "source": [
    "# Simple Linear Regression"
   ]
  },
  {
   "cell_type": "markdown",
   "metadata": {},
   "source": [
    "## Import the libraries"
   ]
  },
  {
   "cell_type": "code",
   "execution_count": 1,
   "metadata": {},
   "outputs": [],
   "source": [
    "import numpy as np\n",
    "import pandas as pd\n",
    "import matplotlib.pyplot as plt\n",
    "import seaborn as sns\n",
    "%matplotlib inline"
   ]
  },
  {
   "cell_type": "markdown",
   "metadata": {},
   "source": [
    "## Import and Explore the dataset"
   ]
  },
  {
   "cell_type": "code",
   "execution_count": 2,
   "metadata": {},
   "outputs": [],
   "source": [
    "data = pd.read_csv(\"headbrain.csv\")"
   ]
  },
  {
   "cell_type": "code",
   "execution_count": 3,
   "metadata": {},
   "outputs": [
    {
     "data": {
      "text/html": [
       "<div>\n",
       "<style scoped>\n",
       "    .dataframe tbody tr th:only-of-type {\n",
       "        vertical-align: middle;\n",
       "    }\n",
       "\n",
       "    .dataframe tbody tr th {\n",
       "        vertical-align: top;\n",
       "    }\n",
       "\n",
       "    .dataframe thead th {\n",
       "        text-align: right;\n",
       "    }\n",
       "</style>\n",
       "<table border=\"1\" class=\"dataframe\">\n",
       "  <thead>\n",
       "    <tr style=\"text-align: right;\">\n",
       "      <th></th>\n",
       "      <th>Gender</th>\n",
       "      <th>Age Range</th>\n",
       "      <th>Head Size(cm^3)</th>\n",
       "      <th>Brain Weight(grams)</th>\n",
       "    </tr>\n",
       "  </thead>\n",
       "  <tbody>\n",
       "    <tr>\n",
       "      <th>0</th>\n",
       "      <td>1</td>\n",
       "      <td>1</td>\n",
       "      <td>4512</td>\n",
       "      <td>1530</td>\n",
       "    </tr>\n",
       "    <tr>\n",
       "      <th>1</th>\n",
       "      <td>1</td>\n",
       "      <td>1</td>\n",
       "      <td>3738</td>\n",
       "      <td>1297</td>\n",
       "    </tr>\n",
       "    <tr>\n",
       "      <th>2</th>\n",
       "      <td>1</td>\n",
       "      <td>1</td>\n",
       "      <td>4261</td>\n",
       "      <td>1335</td>\n",
       "    </tr>\n",
       "    <tr>\n",
       "      <th>3</th>\n",
       "      <td>1</td>\n",
       "      <td>1</td>\n",
       "      <td>3777</td>\n",
       "      <td>1282</td>\n",
       "    </tr>\n",
       "    <tr>\n",
       "      <th>4</th>\n",
       "      <td>1</td>\n",
       "      <td>1</td>\n",
       "      <td>4177</td>\n",
       "      <td>1590</td>\n",
       "    </tr>\n",
       "  </tbody>\n",
       "</table>\n",
       "</div>"
      ],
      "text/plain": [
       "   Gender  Age Range  Head Size(cm^3)  Brain Weight(grams)\n",
       "0       1          1             4512                 1530\n",
       "1       1          1             3738                 1297\n",
       "2       1          1             4261                 1335\n",
       "3       1          1             3777                 1282\n",
       "4       1          1             4177                 1590"
      ]
     },
     "execution_count": 3,
     "metadata": {},
     "output_type": "execute_result"
    }
   ],
   "source": [
    "# To read the top 5 entries of the database\n",
    "data.head()"
   ]
  },
  {
   "cell_type": "code",
   "execution_count": 4,
   "metadata": {},
   "outputs": [
    {
     "name": "stdout",
     "output_type": "stream",
     "text": [
      "<class 'pandas.core.frame.DataFrame'>\n",
      "RangeIndex: 237 entries, 0 to 236\n",
      "Data columns (total 4 columns):\n",
      " #   Column               Non-Null Count  Dtype\n",
      "---  ------               --------------  -----\n",
      " 0   Gender               237 non-null    int64\n",
      " 1   Age Range            237 non-null    int64\n",
      " 2   Head Size(cm^3)      237 non-null    int64\n",
      " 3   Brain Weight(grams)  237 non-null    int64\n",
      "dtypes: int64(4)\n",
      "memory usage: 7.5 KB\n"
     ]
    }
   ],
   "source": [
    "data.info()"
   ]
  },
  {
   "cell_type": "code",
   "execution_count": 5,
   "metadata": {},
   "outputs": [
    {
     "data": {
      "text/html": [
       "<div>\n",
       "<style scoped>\n",
       "    .dataframe tbody tr th:only-of-type {\n",
       "        vertical-align: middle;\n",
       "    }\n",
       "\n",
       "    .dataframe tbody tr th {\n",
       "        vertical-align: top;\n",
       "    }\n",
       "\n",
       "    .dataframe thead th {\n",
       "        text-align: right;\n",
       "    }\n",
       "</style>\n",
       "<table border=\"1\" class=\"dataframe\">\n",
       "  <thead>\n",
       "    <tr style=\"text-align: right;\">\n",
       "      <th></th>\n",
       "      <th>Gender</th>\n",
       "      <th>Age Range</th>\n",
       "      <th>Head Size(cm^3)</th>\n",
       "      <th>Brain Weight(grams)</th>\n",
       "    </tr>\n",
       "  </thead>\n",
       "  <tbody>\n",
       "    <tr>\n",
       "      <th>count</th>\n",
       "      <td>237.000000</td>\n",
       "      <td>237.000000</td>\n",
       "      <td>237.000000</td>\n",
       "      <td>237.000000</td>\n",
       "    </tr>\n",
       "    <tr>\n",
       "      <th>mean</th>\n",
       "      <td>1.434599</td>\n",
       "      <td>1.535865</td>\n",
       "      <td>3633.991561</td>\n",
       "      <td>1282.873418</td>\n",
       "    </tr>\n",
       "    <tr>\n",
       "      <th>std</th>\n",
       "      <td>0.496753</td>\n",
       "      <td>0.499768</td>\n",
       "      <td>365.261422</td>\n",
       "      <td>120.340446</td>\n",
       "    </tr>\n",
       "    <tr>\n",
       "      <th>min</th>\n",
       "      <td>1.000000</td>\n",
       "      <td>1.000000</td>\n",
       "      <td>2720.000000</td>\n",
       "      <td>955.000000</td>\n",
       "    </tr>\n",
       "    <tr>\n",
       "      <th>25%</th>\n",
       "      <td>1.000000</td>\n",
       "      <td>1.000000</td>\n",
       "      <td>3389.000000</td>\n",
       "      <td>1207.000000</td>\n",
       "    </tr>\n",
       "    <tr>\n",
       "      <th>50%</th>\n",
       "      <td>1.000000</td>\n",
       "      <td>2.000000</td>\n",
       "      <td>3614.000000</td>\n",
       "      <td>1280.000000</td>\n",
       "    </tr>\n",
       "    <tr>\n",
       "      <th>75%</th>\n",
       "      <td>2.000000</td>\n",
       "      <td>2.000000</td>\n",
       "      <td>3876.000000</td>\n",
       "      <td>1350.000000</td>\n",
       "    </tr>\n",
       "    <tr>\n",
       "      <th>max</th>\n",
       "      <td>2.000000</td>\n",
       "      <td>2.000000</td>\n",
       "      <td>4747.000000</td>\n",
       "      <td>1635.000000</td>\n",
       "    </tr>\n",
       "  </tbody>\n",
       "</table>\n",
       "</div>"
      ],
      "text/plain": [
       "           Gender   Age Range  Head Size(cm^3)  Brain Weight(grams)\n",
       "count  237.000000  237.000000       237.000000           237.000000\n",
       "mean     1.434599    1.535865      3633.991561          1282.873418\n",
       "std      0.496753    0.499768       365.261422           120.340446\n",
       "min      1.000000    1.000000      2720.000000           955.000000\n",
       "25%      1.000000    1.000000      3389.000000          1207.000000\n",
       "50%      1.000000    2.000000      3614.000000          1280.000000\n",
       "75%      2.000000    2.000000      3876.000000          1350.000000\n",
       "max      2.000000    2.000000      4747.000000          1635.000000"
      ]
     },
     "execution_count": 5,
     "metadata": {},
     "output_type": "execute_result"
    }
   ],
   "source": [
    "data.describe()"
   ]
  },
  {
   "cell_type": "code",
   "execution_count": 6,
   "metadata": {},
   "outputs": [],
   "source": [
    "# In this example, we are only considering effect of head size on brain weight\n",
    "\n",
    "x = data.iloc[:,2:3].values\n",
    "y = data.iloc[:,-1].values"
   ]
  },
  {
   "cell_type": "code",
   "execution_count": 7,
   "metadata": {},
   "outputs": [
    {
     "data": {
      "text/plain": [
       "array([[4512],\n",
       "       [3738],\n",
       "       [4261],\n",
       "       [3777],\n",
       "       [4177],\n",
       "       [3585],\n",
       "       [3785],\n",
       "       [3559],\n",
       "       [3613],\n",
       "       [3982],\n",
       "       [3443],\n",
       "       [3993],\n",
       "       [3640],\n",
       "       [4208],\n",
       "       [3832],\n",
       "       [3876],\n",
       "       [3497],\n",
       "       [3466],\n",
       "       [3095],\n",
       "       [4424],\n",
       "       [3878],\n",
       "       [4046],\n",
       "       [3804],\n",
       "       [3710],\n",
       "       [4747],\n",
       "       [4423],\n",
       "       [4036],\n",
       "       [4022],\n",
       "       [3454],\n",
       "       [4175],\n",
       "       [3787],\n",
       "       [3796],\n",
       "       [4103],\n",
       "       [4161],\n",
       "       [4158],\n",
       "       [3814],\n",
       "       [3527],\n",
       "       [3748],\n",
       "       [3334],\n",
       "       [3492],\n",
       "       [3962],\n",
       "       [3505],\n",
       "       [4315],\n",
       "       [3804],\n",
       "       [3863],\n",
       "       [4034],\n",
       "       [4308],\n",
       "       [3165],\n",
       "       [3641],\n",
       "       [3644],\n",
       "       [3891],\n",
       "       [3793],\n",
       "       [4270],\n",
       "       [4063],\n",
       "       [4012],\n",
       "       [3458],\n",
       "       [3890],\n",
       "       [4166],\n",
       "       [3935],\n",
       "       [3669],\n",
       "       [3866],\n",
       "       [3393],\n",
       "       [4442],\n",
       "       [4253],\n",
       "       [3727],\n",
       "       [3329],\n",
       "       [3415],\n",
       "       [3372],\n",
       "       [4430],\n",
       "       [4381],\n",
       "       [4008],\n",
       "       [3858],\n",
       "       [4121],\n",
       "       [4057],\n",
       "       [3824],\n",
       "       [3394],\n",
       "       [3558],\n",
       "       [3362],\n",
       "       [3930],\n",
       "       [3835],\n",
       "       [3830],\n",
       "       [3856],\n",
       "       [3249],\n",
       "       [3577],\n",
       "       [3933],\n",
       "       [3850],\n",
       "       [3309],\n",
       "       [3406],\n",
       "       [3506],\n",
       "       [3907],\n",
       "       [4160],\n",
       "       [3318],\n",
       "       [3662],\n",
       "       [3899],\n",
       "       [3700],\n",
       "       [3779],\n",
       "       [3473],\n",
       "       [3490],\n",
       "       [3654],\n",
       "       [3478],\n",
       "       [3495],\n",
       "       [3834],\n",
       "       [3876],\n",
       "       [3661],\n",
       "       [3618],\n",
       "       [3648],\n",
       "       [4032],\n",
       "       [3399],\n",
       "       [3916],\n",
       "       [4430],\n",
       "       [3695],\n",
       "       [3524],\n",
       "       [3571],\n",
       "       [3594],\n",
       "       [3383],\n",
       "       [3499],\n",
       "       [3589],\n",
       "       [3900],\n",
       "       [4114],\n",
       "       [3937],\n",
       "       [3399],\n",
       "       [4200],\n",
       "       [4488],\n",
       "       [3614],\n",
       "       [4051],\n",
       "       [3782],\n",
       "       [3391],\n",
       "       [3124],\n",
       "       [4053],\n",
       "       [3582],\n",
       "       [3666],\n",
       "       [3532],\n",
       "       [4046],\n",
       "       [3667],\n",
       "       [2857],\n",
       "       [3436],\n",
       "       [3791],\n",
       "       [3302],\n",
       "       [3104],\n",
       "       [3171],\n",
       "       [3572],\n",
       "       [3530],\n",
       "       [3175],\n",
       "       [3438],\n",
       "       [3903],\n",
       "       [3899],\n",
       "       [3401],\n",
       "       [3267],\n",
       "       [3451],\n",
       "       [3090],\n",
       "       [3413],\n",
       "       [3323],\n",
       "       [3680],\n",
       "       [3439],\n",
       "       [3853],\n",
       "       [3156],\n",
       "       [3279],\n",
       "       [3707],\n",
       "       [4006],\n",
       "       [3269],\n",
       "       [3071],\n",
       "       [3779],\n",
       "       [3548],\n",
       "       [3292],\n",
       "       [3497],\n",
       "       [3082],\n",
       "       [3248],\n",
       "       [3358],\n",
       "       [3803],\n",
       "       [3566],\n",
       "       [3145],\n",
       "       [3503],\n",
       "       [3571],\n",
       "       [3724],\n",
       "       [3615],\n",
       "       [3203],\n",
       "       [3609],\n",
       "       [3561],\n",
       "       [3979],\n",
       "       [3533],\n",
       "       [3689],\n",
       "       [3158],\n",
       "       [4005],\n",
       "       [3181],\n",
       "       [3479],\n",
       "       [3642],\n",
       "       [3632],\n",
       "       [3069],\n",
       "       [3394],\n",
       "       [3703],\n",
       "       [3165],\n",
       "       [3354],\n",
       "       [3000],\n",
       "       [3687],\n",
       "       [3556],\n",
       "       [2773],\n",
       "       [3058],\n",
       "       [3344],\n",
       "       [3493],\n",
       "       [3297],\n",
       "       [3360],\n",
       "       [3228],\n",
       "       [3277],\n",
       "       [3851],\n",
       "       [3067],\n",
       "       [3692],\n",
       "       [3402],\n",
       "       [3995],\n",
       "       [3318],\n",
       "       [2720],\n",
       "       [2937],\n",
       "       [3580],\n",
       "       [2939],\n",
       "       [2989],\n",
       "       [3586],\n",
       "       [3156],\n",
       "       [3246],\n",
       "       [3170],\n",
       "       [3268],\n",
       "       [3389],\n",
       "       [3381],\n",
       "       [2864],\n",
       "       [3740],\n",
       "       [3479],\n",
       "       [3647],\n",
       "       [3716],\n",
       "       [3284],\n",
       "       [4204],\n",
       "       [3735],\n",
       "       [3218],\n",
       "       [3685],\n",
       "       [3704],\n",
       "       [3214],\n",
       "       [3394],\n",
       "       [3233],\n",
       "       [3352],\n",
       "       [3391]])"
      ]
     },
     "execution_count": 7,
     "metadata": {},
     "output_type": "execute_result"
    }
   ],
   "source": [
    "x"
   ]
  },
  {
   "cell_type": "code",
   "execution_count": 8,
   "metadata": {},
   "outputs": [
    {
     "data": {
      "text/plain": [
       "array([1530, 1297, 1335, 1282, 1590, 1300, 1400, 1255, 1355, 1375, 1340,\n",
       "       1380, 1355, 1522, 1208, 1405, 1358, 1292, 1340, 1400, 1357, 1287,\n",
       "       1275, 1270, 1635, 1505, 1490, 1485, 1310, 1420, 1318, 1432, 1364,\n",
       "       1405, 1432, 1207, 1375, 1350, 1236, 1250, 1350, 1320, 1525, 1570,\n",
       "       1340, 1422, 1506, 1215, 1311, 1300, 1224, 1350, 1335, 1390, 1400,\n",
       "       1225, 1310, 1560, 1330, 1222, 1415, 1175, 1330, 1485, 1470, 1135,\n",
       "       1310, 1154, 1510, 1415, 1468, 1390, 1380, 1432, 1240, 1195, 1225,\n",
       "       1188, 1252, 1315, 1245, 1430, 1279, 1245, 1309, 1412, 1120, 1220,\n",
       "       1280, 1440, 1370, 1192, 1230, 1346, 1290, 1165, 1240, 1132, 1242,\n",
       "       1270, 1218, 1430, 1588, 1320, 1290, 1260, 1425, 1226, 1360, 1620,\n",
       "       1310, 1250, 1295, 1290, 1290, 1275, 1250, 1270, 1362, 1300, 1173,\n",
       "       1256, 1440, 1180, 1306, 1350, 1125, 1165, 1312, 1300, 1270, 1335,\n",
       "       1450, 1310, 1027, 1235, 1260, 1165, 1080, 1127, 1270, 1252, 1200,\n",
       "       1290, 1334, 1380, 1140, 1243, 1340, 1168, 1322, 1249, 1321, 1192,\n",
       "       1373, 1170, 1265, 1235, 1302, 1241, 1078, 1520, 1460, 1075, 1280,\n",
       "       1180, 1250, 1190, 1374, 1306, 1202, 1240, 1316, 1280, 1350, 1180,\n",
       "       1210, 1127, 1324, 1210, 1290, 1100, 1280, 1175, 1160, 1205, 1163,\n",
       "       1022, 1243, 1350, 1237, 1204, 1090, 1355, 1250, 1076, 1120, 1220,\n",
       "       1240, 1220, 1095, 1235, 1105, 1405, 1150, 1305, 1220, 1296, 1175,\n",
       "        955, 1070, 1320, 1060, 1130, 1250, 1225, 1180, 1178, 1142, 1130,\n",
       "       1185, 1012, 1280, 1103, 1408, 1300, 1246, 1380, 1350, 1060, 1350,\n",
       "       1220, 1110, 1215, 1104, 1170, 1120])"
      ]
     },
     "execution_count": 8,
     "metadata": {},
     "output_type": "execute_result"
    }
   ],
   "source": [
    "y"
   ]
  },
  {
   "cell_type": "code",
   "execution_count": 9,
   "metadata": {},
   "outputs": [
    {
     "data": {
      "text/plain": [
       "Text(0.5, 1.0, 'Head Size vs Brain Weight')"
      ]
     },
     "execution_count": 9,
     "metadata": {},
     "output_type": "execute_result"
    },
    {
     "data": {
      "image/png": "[encoded data removed]",
      "text/plain": [
       "<Figure size 432x288 with 1 Axes>"
      ]
     },
     "metadata": {
      "needs_background": "light"
     },
     "output_type": "display_data"
    }
   ],
   "source": [
    "plt.scatter(x,y)\n",
    "plt.xlabel(\"Head Size\")\n",
    "plt.ylabel(\"Brain Weight\")\n",
    "plt.title(\"Head Size vs Brain Weight\")"
   ]
  },
  {
   "cell_type": "markdown",
   "metadata": {},
   "source": [
    "## Split the Dataset into training set and test set"
   ]
  },
  {
   "cell_type": "code",
   "execution_count": 10,
   "metadata": {},
   "outputs": [],
   "source": [
    "from sklearn.model_selection import train_test_split\n",
    "x_train, x_test, y_train, y_test = train_test_split(x, y, train_size=0.8)"
   ]
  },
  {
   "cell_type": "code",
   "execution_count": 11,
   "metadata": {},
   "outputs": [
    {
     "data": {
      "text/plain": [
       "(237, 1)"
      ]
     },
     "execution_count": 11,
     "metadata": {},
     "output_type": "execute_result"
    }
   ],
   "source": [
    "x.shape"
   ]
  },
  {
   "cell_type": "code",
   "execution_count": 12,
   "metadata": {},
   "outputs": [
    {
     "data": {
      "text/plain": [
       "(189, 1)"
      ]
     },
     "execution_count": 12,
     "metadata": {},
     "output_type": "execute_result"
    }
   ],
   "source": [
    "x_train.shape"
   ]
  },
  {
   "cell_type": "markdown",
   "metadata": {},
   "source": [
    "## Option1 - Train the simple linear regression model on training set using scikit"
   ]
  },
  {
   "cell_type": "code",
   "execution_count": 13,
   "metadata": {},
   "outputs": [
    {
     "data": {
      "text/plain": [
       "LinearRegression(copy_X=True, fit_intercept=True, n_jobs=None, normalize=False)"
      ]
     },
     "execution_count": 13,
     "metadata": {},
     "output_type": "execute_result"
    }
   ],
   "source": [
    "from sklearn.linear_model import LinearRegression\n",
    "lr = LinearRegression()\n",
    "lr.fit(x_train,y_train)"
   ]
  },
  {
   "cell_type": "markdown",
   "metadata": {},
   "source": [
    "## Predict the test set results"
   ]
  },
  {
   "cell_type": "code",
   "execution_count": 14,
   "metadata": {},
   "outputs": [
    {
     "data": {
      "text/plain": [
       "array([0.25])"
      ]
     },
     "execution_count": 14,
     "metadata": {},
     "output_type": "execute_result"
    }
   ],
   "source": [
    "coefficient = lr.coef_.round(2)\n",
    "coefficient"
   ]
  },
  {
   "cell_type": "code",
   "execution_count": 15,
   "metadata": {},
   "outputs": [
    {
     "data": {
      "text/plain": [
       "389.6"
      ]
     },
     "execution_count": 15,
     "metadata": {},
     "output_type": "execute_result"
    }
   ],
   "source": [
    "intercept = lr.intercept_.round(2)\n",
    "intercept"
   ]
  },
  {
   "cell_type": "code",
   "execution_count": 16,
   "metadata": {},
   "outputs": [
    {
     "name": "stdout",
     "output_type": "stream",
     "text": [
      "The equation of our simple regression model is Brain Weight = [0.25]xHead Size + 389.6\n"
     ]
    }
   ],
   "source": [
    "print(\"The equation of our simple regression model is Brain Weight = {}xHead Size + {}\".format(coefficient, intercept))"
   ]
  },
  {
   "cell_type": "code",
   "execution_count": 17,
   "metadata": {},
   "outputs": [
    {
     "data": {
      "text/plain": [
       "array([1317.33248376, 1378.65781197, 1155.9242199 , 1142.92325032,\n",
       "       1167.20808029, 1197.13484046, 1303.10500761, 1347.99514787,\n",
       "       1476.28773449, 1366.39274633, 1256.25245686, 1225.09919013,\n",
       "       1476.28773449, 1216.75894549, 1335.97538354, 1226.81629932,\n",
       "       1382.09203035, 1369.09106077, 1322.48381133, 1306.53922599,\n",
       "       1297.21777611, 1276.1218632 , 1193.45532077, 1474.81592661,\n",
       "       1246.93100697, 1409.56577739, 1191.24760895, 1213.32472711,\n",
       "       1337.93779404, 1198.36134702, 1334.25827435, 1222.15557437,\n",
       "       1308.99223912, 1236.1377492 , 1446.36097432, 1411.5281879 ,\n",
       "       1277.10306845, 1554.04825067, 1163.77386191, 1330.33345334,\n",
       "       1243.00618596, 1373.75178572, 1247.4216096 , 1139.73433325,\n",
       "       1239.8172689 , 1243.00618596, 1287.89632622, 1219.45725993])"
      ]
     },
     "execution_count": 17,
     "metadata": {},
     "output_type": "execute_result"
    }
   ],
   "source": [
    "y_test_pred = lr.predict(x_test)\n",
    "y_test_pred"
   ]
  },
  {
   "cell_type": "markdown",
   "metadata": {},
   "source": [
    "## Compare the (predicted) test set results with (given) y_test"
   ]
  },
  {
   "cell_type": "code",
   "execution_count": 18,
   "metadata": {},
   "outputs": [
    {
     "data": {
      "text/plain": [
       "array([1222.15557437, 1245.70450041, 1289.61343541, 1234.1753387 ,\n",
       "       1280.53728683, 1254.04474504, 1269.25342644, 1398.77251963,\n",
       "       1329.10694678, 1448.07808351, 1340.88140979, 1248.89341747,\n",
       "       1269.98933038, 1372.27997784, 1213.81532973, 1282.49969733,\n",
       "       1289.12283278, 1346.03273736, 1246.44040434, 1334.01297303,\n",
       "       1340.39080717, 1298.19898136, 1267.78161856, 1316.59657982,\n",
       "       1307.02982862, 1212.34352186, 1372.77058047, 1271.21583694,\n",
       "       1432.86940212, 1301.14259711, 1318.0683877 , 1353.63707806,\n",
       "       1414.22650234, 1261.89438705, 1223.87268356, 1147.58397526,\n",
       "       1069.82345909, 1262.63029099, 1419.86843253, 1413.73589971,\n",
       "       1092.14587856, 1322.72911264, 1292.31174985, 1474.5706253 ,\n",
       "       1303.84091155, 1207.4374956 , 1327.6351389 , 1275.87656189,\n",
       "       1165.98157373, 1227.30690194, 1379.63901723, 1320.0307982 ,\n",
       "       1354.86358463, 1223.38208094, 1151.01819364, 1182.662063  ,\n",
       "       1384.7903448 , 1284.46210784, 1204.73918116, 1247.4216096 ,\n",
       "       1169.90639473, 1268.27222119, 1221.41967043, 1276.36716451,\n",
       "       1221.41967043, 1255.51655292, 1344.07032686, 1316.59657982,\n",
       "       1274.89535664, 1322.72911264, 1383.31853692, 1293.53825641,\n",
       "       1299.67078923, 1305.80332206, 1214.30593236, 1361.48672007,\n",
       "       1496.40244215, 1269.00812513, 1294.02885904, 1319.54019558,\n",
       "       1346.03273736, 1168.43458685, 1191.49291026, 1350.20285968,\n",
       "       1259.93197655, 1343.82502555, 1161.07554747, 1354.372982  ,\n",
       "       1110.05287439, 1262.38498968, 1209.89050873, 1148.81048183,\n",
       "       1365.65684239, 1490.51521064, 1421.83084304, 1316.1059772 ,\n",
       "       1335.48478091, 1256.00715555, 1347.01394262, 1346.27803868,\n",
       "       1376.20479885, 1464.26797016, 1211.85291923, 1285.93391571,\n",
       "       1145.62156476, 1236.87365314, 1199.58785359, 1191.00230764,\n",
       "       1410.30168133, 1195.17242996, 1263.12089362, 1163.77386191,\n",
       "       1232.94883214, 1267.04571462, 1383.80913954, 1437.03952443,\n",
       "       1181.43555644, 1237.85485839, 1283.48090259, 1340.39080717,\n",
       "       1369.5816634 , 1265.81920806, 1264.34740018, 1125.5068571 ,\n",
       "       1294.51946166, 1220.92906781, 1265.57390675, 1282.99029996,\n",
       "       1420.84963779, 1224.11798487, 1201.30496278, 1298.9348853 ,\n",
       "       1297.95368004, 1318.55899032, 1090.42876937, 1249.62932141,\n",
       "       1325.18212577, 1287.6510249 , 1355.35418725, 1221.91027306,\n",
       "       1295.2553656 , 1232.45822951, 1141.94204507, 1379.1484146 ,\n",
       "       1400.48962882, 1167.4533816 , 1223.38208094, 1206.21098904,\n",
       "       1246.19510303, 1337.2018901 , 1242.76088465, 1372.03467653,\n",
       "       1249.3840201 , 1479.23135025, 1193.94592339, 1410.05638002,\n",
       "       1222.15557437, 1218.9666573 , 1382.09203035, 1165.98157373,\n",
       "       1178.98254331, 1110.54347702, 1122.80854266, 1284.21680652,\n",
       "       1175.30302361, 1178.00133806, 1282.74499865, 1434.83181262,\n",
       "       1386.26215267, 1295.99126954, 1247.91221222, 1203.51267459,\n",
       "       1396.07420519, 1056.8224895 , 1320.76670214, 1265.57390675,\n",
       "       1164.26446454, 1288.87753147, 1329.5975494 , 1330.08815203,\n",
       "       1203.51267459, 1254.78064898, 1334.74887697, 1186.58688401,\n",
       "       1142.43264769, 1185.85098007, 1241.53437809, 1186.34158269,\n",
       "       1233.19413345])"
      ]
     },
     "execution_count": 18,
     "metadata": {},
     "output_type": "execute_result"
    }
   ],
   "source": [
    "y_train_pred = lr.predict(x_train)\n",
    "y_train_pred"
   ]
  },
  {
   "cell_type": "code",
   "execution_count": 19,
   "metadata": {},
   "outputs": [
    {
     "data": {
      "text/plain": [
       "[1317.33,\n",
       " 1378.66,\n",
       " 1155.92,\n",
       " 1142.92,\n",
       " 1167.21,\n",
       " 1197.13,\n",
       " 1303.11,\n",
       " 1348.0,\n",
       " 1476.29,\n",
       " 1366.39,\n",
       " 1256.25,\n",
       " 1225.1,\n",
       " 1476.29,\n",
       " 1216.76,\n",
       " 1335.98,\n",
       " 1226.82,\n",
       " 1382.09,\n",
       " 1369.09,\n",
       " 1322.48,\n",
       " 1306.54,\n",
       " 1297.22,\n",
       " 1276.12,\n",
       " 1193.46,\n",
       " 1474.82,\n",
       " 1246.93,\n",
       " 1409.57,\n",
       " 1191.25,\n",
       " 1213.32,\n",
       " 1337.94,\n",
       " 1198.36,\n",
       " 1334.26,\n",
       " 1222.16,\n",
       " 1308.99,\n",
       " 1236.14,\n",
       " 1446.36,\n",
       " 1411.53,\n",
       " 1277.1,\n",
       " 1554.05,\n",
       " 1163.77,\n",
       " 1330.33,\n",
       " 1243.01,\n",
       " 1373.75,\n",
       " 1247.42,\n",
       " 1139.73,\n",
       " 1239.82,\n",
       " 1243.01,\n",
       " 1287.9,\n",
       " 1219.46]"
      ]
     },
     "execution_count": 19,
     "metadata": {},
     "output_type": "execute_result"
    }
   ],
   "source": [
    "y_test_pred_rounded = [round (elem,2) for elem in y_test_pred.tolist()]\n",
    "y_test_pred_rounded"
   ]
  },
  {
   "cell_type": "code",
   "execution_count": 20,
   "metadata": {
    "scrolled": true
   },
   "outputs": [
    {
     "data": {
      "text/plain": [
       "[3782,\n",
       " 4032,\n",
       " 3124,\n",
       " 3071,\n",
       " 3170,\n",
       " 3292,\n",
       " 3724,\n",
       " 3907,\n",
       " 4430,\n",
       " 3982,\n",
       " 3533,\n",
       " 3406,\n",
       " 4430,\n",
       " 3372,\n",
       " 3858,\n",
       " 3413,\n",
       " 4046,\n",
       " 3993,\n",
       " 3803,\n",
       " 3738,\n",
       " 3700,\n",
       " 3614,\n",
       " 3277,\n",
       " 4424,\n",
       " 3495,\n",
       " 4158,\n",
       " 3268,\n",
       " 3358,\n",
       " 3866,\n",
       " 3297,\n",
       " 3851,\n",
       " 3394,\n",
       " 3748,\n",
       " 3451,\n",
       " 4308,\n",
       " 4166,\n",
       " 3618,\n",
       " 4747,\n",
       " 3156,\n",
       " 3835,\n",
       " 3479,\n",
       " 4012,\n",
       " 3497,\n",
       " 3058,\n",
       " 3466,\n",
       " 3479,\n",
       " 3662,\n",
       " 3383]"
      ]
     },
     "execution_count": 20,
     "metadata": {},
     "output_type": "execute_result"
    }
   ],
   "source": [
    "x_test_rounded = [round (elem,2) for elem in x_test.flatten().tolist()]\n",
    "x_test_rounded"
   ]
  },
  {
   "cell_type": "code",
   "execution_count": 21,
   "metadata": {},
   "outputs": [
    {
     "data": {
      "text/html": [
       "<div>\n",
       "<style scoped>\n",
       "    .dataframe tbody tr th:only-of-type {\n",
       "        vertical-align: middle;\n",
       "    }\n",
       "\n",
       "    .dataframe tbody tr th {\n",
       "        vertical-align: top;\n",
       "    }\n",
       "\n",
       "    .dataframe thead th {\n",
       "        text-align: right;\n",
       "    }\n",
       "</style>\n",
       "<table border=\"1\" class=\"dataframe\">\n",
       "  <thead>\n",
       "    <tr style=\"text-align: right;\">\n",
       "      <th></th>\n",
       "      <th>x_test</th>\n",
       "      <th>y_test</th>\n",
       "      <th>y_test_predict</th>\n",
       "    </tr>\n",
       "  </thead>\n",
       "  <tbody>\n",
       "    <tr>\n",
       "      <th>0</th>\n",
       "      <td>3782</td>\n",
       "      <td>1350</td>\n",
       "      <td>1317.33</td>\n",
       "    </tr>\n",
       "    <tr>\n",
       "      <th>1</th>\n",
       "      <td>4032</td>\n",
       "      <td>1425</td>\n",
       "      <td>1378.66</td>\n",
       "    </tr>\n",
       "    <tr>\n",
       "      <th>2</th>\n",
       "      <td>3124</td>\n",
       "      <td>1165</td>\n",
       "      <td>1155.92</td>\n",
       "    </tr>\n",
       "    <tr>\n",
       "      <th>3</th>\n",
       "      <td>3071</td>\n",
       "      <td>1078</td>\n",
       "      <td>1142.92</td>\n",
       "    </tr>\n",
       "    <tr>\n",
       "      <th>4</th>\n",
       "      <td>3170</td>\n",
       "      <td>1178</td>\n",
       "      <td>1167.21</td>\n",
       "    </tr>\n",
       "    <tr>\n",
       "      <th>5</th>\n",
       "      <td>3292</td>\n",
       "      <td>1075</td>\n",
       "      <td>1197.13</td>\n",
       "    </tr>\n",
       "    <tr>\n",
       "      <th>6</th>\n",
       "      <td>3724</td>\n",
       "      <td>1280</td>\n",
       "      <td>1303.11</td>\n",
       "    </tr>\n",
       "    <tr>\n",
       "      <th>7</th>\n",
       "      <td>3907</td>\n",
       "      <td>1440</td>\n",
       "      <td>1348.00</td>\n",
       "    </tr>\n",
       "    <tr>\n",
       "      <th>8</th>\n",
       "      <td>4430</td>\n",
       "      <td>1620</td>\n",
       "      <td>1476.29</td>\n",
       "    </tr>\n",
       "    <tr>\n",
       "      <th>9</th>\n",
       "      <td>3982</td>\n",
       "      <td>1375</td>\n",
       "      <td>1366.39</td>\n",
       "    </tr>\n",
       "    <tr>\n",
       "      <th>10</th>\n",
       "      <td>3533</td>\n",
       "      <td>1210</td>\n",
       "      <td>1256.25</td>\n",
       "    </tr>\n",
       "    <tr>\n",
       "      <th>11</th>\n",
       "      <td>3406</td>\n",
       "      <td>1220</td>\n",
       "      <td>1225.10</td>\n",
       "    </tr>\n",
       "    <tr>\n",
       "      <th>12</th>\n",
       "      <td>4430</td>\n",
       "      <td>1510</td>\n",
       "      <td>1476.29</td>\n",
       "    </tr>\n",
       "    <tr>\n",
       "      <th>13</th>\n",
       "      <td>3372</td>\n",
       "      <td>1154</td>\n",
       "      <td>1216.76</td>\n",
       "    </tr>\n",
       "    <tr>\n",
       "      <th>14</th>\n",
       "      <td>3858</td>\n",
       "      <td>1390</td>\n",
       "      <td>1335.98</td>\n",
       "    </tr>\n",
       "    <tr>\n",
       "      <th>15</th>\n",
       "      <td>3413</td>\n",
       "      <td>1322</td>\n",
       "      <td>1226.82</td>\n",
       "    </tr>\n",
       "    <tr>\n",
       "      <th>16</th>\n",
       "      <td>4046</td>\n",
       "      <td>1450</td>\n",
       "      <td>1382.09</td>\n",
       "    </tr>\n",
       "    <tr>\n",
       "      <th>17</th>\n",
       "      <td>3993</td>\n",
       "      <td>1380</td>\n",
       "      <td>1369.09</td>\n",
       "    </tr>\n",
       "    <tr>\n",
       "      <th>18</th>\n",
       "      <td>3803</td>\n",
       "      <td>1374</td>\n",
       "      <td>1322.48</td>\n",
       "    </tr>\n",
       "    <tr>\n",
       "      <th>19</th>\n",
       "      <td>3738</td>\n",
       "      <td>1297</td>\n",
       "      <td>1306.54</td>\n",
       "    </tr>\n",
       "    <tr>\n",
       "      <th>20</th>\n",
       "      <td>3700</td>\n",
       "      <td>1290</td>\n",
       "      <td>1297.22</td>\n",
       "    </tr>\n",
       "    <tr>\n",
       "      <th>21</th>\n",
       "      <td>3614</td>\n",
       "      <td>1180</td>\n",
       "      <td>1276.12</td>\n",
       "    </tr>\n",
       "    <tr>\n",
       "      <th>22</th>\n",
       "      <td>3277</td>\n",
       "      <td>1105</td>\n",
       "      <td>1193.46</td>\n",
       "    </tr>\n",
       "    <tr>\n",
       "      <th>23</th>\n",
       "      <td>4424</td>\n",
       "      <td>1400</td>\n",
       "      <td>1474.82</td>\n",
       "    </tr>\n",
       "    <tr>\n",
       "      <th>24</th>\n",
       "      <td>3495</td>\n",
       "      <td>1218</td>\n",
       "      <td>1246.93</td>\n",
       "    </tr>\n",
       "    <tr>\n",
       "      <th>25</th>\n",
       "      <td>4158</td>\n",
       "      <td>1432</td>\n",
       "      <td>1409.57</td>\n",
       "    </tr>\n",
       "    <tr>\n",
       "      <th>26</th>\n",
       "      <td>3268</td>\n",
       "      <td>1142</td>\n",
       "      <td>1191.25</td>\n",
       "    </tr>\n",
       "    <tr>\n",
       "      <th>27</th>\n",
       "      <td>3358</td>\n",
       "      <td>1190</td>\n",
       "      <td>1213.32</td>\n",
       "    </tr>\n",
       "    <tr>\n",
       "      <th>28</th>\n",
       "      <td>3866</td>\n",
       "      <td>1415</td>\n",
       "      <td>1337.94</td>\n",
       "    </tr>\n",
       "    <tr>\n",
       "      <th>29</th>\n",
       "      <td>3297</td>\n",
       "      <td>1220</td>\n",
       "      <td>1198.36</td>\n",
       "    </tr>\n",
       "    <tr>\n",
       "      <th>30</th>\n",
       "      <td>3851</td>\n",
       "      <td>1405</td>\n",
       "      <td>1334.26</td>\n",
       "    </tr>\n",
       "    <tr>\n",
       "      <th>31</th>\n",
       "      <td>3394</td>\n",
       "      <td>1195</td>\n",
       "      <td>1222.16</td>\n",
       "    </tr>\n",
       "    <tr>\n",
       "      <th>32</th>\n",
       "      <td>3748</td>\n",
       "      <td>1350</td>\n",
       "      <td>1308.99</td>\n",
       "    </tr>\n",
       "    <tr>\n",
       "      <th>33</th>\n",
       "      <td>3451</td>\n",
       "      <td>1340</td>\n",
       "      <td>1236.14</td>\n",
       "    </tr>\n",
       "    <tr>\n",
       "      <th>34</th>\n",
       "      <td>4308</td>\n",
       "      <td>1506</td>\n",
       "      <td>1446.36</td>\n",
       "    </tr>\n",
       "    <tr>\n",
       "      <th>35</th>\n",
       "      <td>4166</td>\n",
       "      <td>1560</td>\n",
       "      <td>1411.53</td>\n",
       "    </tr>\n",
       "    <tr>\n",
       "      <th>36</th>\n",
       "      <td>3618</td>\n",
       "      <td>1290</td>\n",
       "      <td>1277.10</td>\n",
       "    </tr>\n",
       "    <tr>\n",
       "      <th>37</th>\n",
       "      <td>4747</td>\n",
       "      <td>1635</td>\n",
       "      <td>1554.05</td>\n",
       "    </tr>\n",
       "    <tr>\n",
       "      <th>38</th>\n",
       "      <td>3156</td>\n",
       "      <td>1170</td>\n",
       "      <td>1163.77</td>\n",
       "    </tr>\n",
       "    <tr>\n",
       "      <th>39</th>\n",
       "      <td>3835</td>\n",
       "      <td>1315</td>\n",
       "      <td>1330.33</td>\n",
       "    </tr>\n",
       "    <tr>\n",
       "      <th>40</th>\n",
       "      <td>3479</td>\n",
       "      <td>1160</td>\n",
       "      <td>1243.01</td>\n",
       "    </tr>\n",
       "    <tr>\n",
       "      <th>41</th>\n",
       "      <td>4012</td>\n",
       "      <td>1400</td>\n",
       "      <td>1373.75</td>\n",
       "    </tr>\n",
       "    <tr>\n",
       "      <th>42</th>\n",
       "      <td>3497</td>\n",
       "      <td>1280</td>\n",
       "      <td>1247.42</td>\n",
       "    </tr>\n",
       "    <tr>\n",
       "      <th>43</th>\n",
       "      <td>3058</td>\n",
       "      <td>1120</td>\n",
       "      <td>1139.73</td>\n",
       "    </tr>\n",
       "    <tr>\n",
       "      <th>44</th>\n",
       "      <td>3466</td>\n",
       "      <td>1292</td>\n",
       "      <td>1239.82</td>\n",
       "    </tr>\n",
       "    <tr>\n",
       "      <th>45</th>\n",
       "      <td>3479</td>\n",
       "      <td>1103</td>\n",
       "      <td>1243.01</td>\n",
       "    </tr>\n",
       "    <tr>\n",
       "      <th>46</th>\n",
       "      <td>3662</td>\n",
       "      <td>1230</td>\n",
       "      <td>1287.90</td>\n",
       "    </tr>\n",
       "    <tr>\n",
       "      <th>47</th>\n",
       "      <td>3383</td>\n",
       "      <td>1290</td>\n",
       "      <td>1219.46</td>\n",
       "    </tr>\n",
       "  </tbody>\n",
       "</table>\n",
       "</div>"
      ],
      "text/plain": [
       "    x_test  y_test  y_test_predict\n",
       "0     3782    1350         1317.33\n",
       "1     4032    1425         1378.66\n",
       "2     3124    1165         1155.92\n",
       "3     3071    1078         1142.92\n",
       "4     3170    1178         1167.21\n",
       "5     3292    1075         1197.13\n",
       "6     3724    1280         1303.11\n",
       "7     3907    1440         1348.00\n",
       "8     4430    1620         1476.29\n",
       "9     3982    1375         1366.39\n",
       "10    3533    1210         1256.25\n",
       "11    3406    1220         1225.10\n",
       "12    4430    1510         1476.29\n",
       "13    3372    1154         1216.76\n",
       "14    3858    1390         1335.98\n",
       "15    3413    1322         1226.82\n",
       "16    4046    1450         1382.09\n",
       "17    3993    1380         1369.09\n",
       "18    3803    1374         1322.48\n",
       "19    3738    1297         1306.54\n",
       "20    3700    1290         1297.22\n",
       "21    3614    1180         1276.12\n",
       "22    3277    1105         1193.46\n",
       "23    4424    1400         1474.82\n",
       "24    3495    1218         1246.93\n",
       "25    4158    1432         1409.57\n",
       "26    3268    1142         1191.25\n",
       "27    3358    1190         1213.32\n",
       "28    3866    1415         1337.94\n",
       "29    3297    1220         1198.36\n",
       "30    3851    1405         1334.26\n",
       "31    3394    1195         1222.16\n",
       "32    3748    1350         1308.99\n",
       "33    3451    1340         1236.14\n",
       "34    4308    1506         1446.36\n",
       "35    4166    1560         1411.53\n",
       "36    3618    1290         1277.10\n",
       "37    4747    1635         1554.05\n",
       "38    3156    1170         1163.77\n",
       "39    3835    1315         1330.33\n",
       "40    3479    1160         1243.01\n",
       "41    4012    1400         1373.75\n",
       "42    3497    1280         1247.42\n",
       "43    3058    1120         1139.73\n",
       "44    3466    1292         1239.82\n",
       "45    3479    1103         1243.01\n",
       "46    3662    1230         1287.90\n",
       "47    3383    1290         1219.46"
      ]
     },
     "execution_count": 21,
     "metadata": {},
     "output_type": "execute_result"
    }
   ],
   "source": [
    "data = {\"x_test\":x_test_rounded, \"y_test\":y_test,\"y_test_predict\":y_test_pred_rounded}\n",
    "summary=pd.DataFrame(data)\n",
    "summary"
   ]
  },
  {
   "cell_type": "markdown",
   "metadata": {},
   "source": [
    "## Visualising the training set results"
   ]
  },
  {
   "cell_type": "code",
   "execution_count": 22,
   "metadata": {},
   "outputs": [
    {
     "data": {
      "text/plain": [
       "<function matplotlib.pyplot.tight_layout(pad=1.08, h_pad=None, w_pad=None, rect=None)>"
      ]
     },
     "execution_count": 22,
     "metadata": {},
     "output_type": "execute_result"
    },
    {
     "data": {
      "image/png": "[encoded data removed]",
      "text/plain": [
       "<Figure size 432x288 with 1 Axes>"
      ]
     },
     "metadata": {
      "needs_background": "light"
     },
     "output_type": "display_data"
    }
   ],
   "source": [
    "plt.scatter(x_train, y_train)\n",
    "plt.plot(x_train, lr.predict(x_train), color=\"red\")\n",
    "plt.title('Head Size vs Brain Weight (Training set)')\n",
    "plt.xlabel('Head Size')\n",
    "plt.ylabel('Brain Weight')\n",
    "plt.tight_layout"
   ]
  },
  {
   "cell_type": "markdown",
   "metadata": {},
   "source": [
    "## Visualise the test set results"
   ]
  },
  {
   "cell_type": "code",
   "execution_count": 23,
   "metadata": {},
   "outputs": [
    {
     "data": {
      "text/plain": [
       "<function matplotlib.pyplot.tight_layout(pad=1.08, h_pad=None, w_pad=None, rect=None)>"
      ]
     },
     "execution_count": 23,
     "metadata": {},
     "output_type": "execute_result"
    },
    {
     "data": {
      "image/png": "[encoded data removed]",
      "text/plain": [
       "<Figure size 432x288 with 1 Axes>"
      ]
     },
     "metadata": {
      "needs_background": "light"
     },
     "output_type": "display_data"
    }
   ],
   "source": [
    "plt.scatter(x_test, y_test)\n",
    "plt.plot(x_train, lr.predict(x_train), color = 'green')\n",
    "plt.title('Head Size vs Brain Weight (Test set)')\n",
    "plt.xlabel('Head Size')\n",
    "plt.ylabel('Brain Weight')\n",
    "plt.tight_layout"
   ]
  },
  {
   "cell_type": "markdown",
   "metadata": {},
   "source": [
    "## Model Evaluation"
   ]
  },
  {
   "cell_type": "code",
   "execution_count": 24,
   "metadata": {},
   "outputs": [],
   "source": [
    "from sklearn.metrics import mean_squared_error"
   ]
  },
  {
   "cell_type": "code",
   "execution_count": 25,
   "metadata": {},
   "outputs": [
    {
     "data": {
      "text/plain": [
       "74.22"
      ]
     },
     "execution_count": 25,
     "metadata": {},
     "output_type": "execute_result"
    }
   ],
   "source": [
    "#Root Mean Square Error\n",
    "rmse = np.sqrt(mean_squared_error(y_train,y_train_pred)).round(2)\n",
    "rmse"
   ]
  },
  {
   "cell_type": "code",
   "execution_count": 26,
   "metadata": {},
   "outputs": [
    {
     "data": {
      "text/plain": [
       "0.58"
      ]
     },
     "execution_count": 26,
     "metadata": {},
     "output_type": "execute_result"
    }
   ],
   "source": [
    "#R-squared\n",
    "r2=lr.score(x_train,y_train)\n",
    "r2.round(2)"
   ]
  },
  {
   "cell_type": "markdown",
   "metadata": {},
   "source": [
    "## Option2 - Train the simple linear regression model on training set using statsmodel"
   ]
  },
  {
   "cell_type": "code",
   "execution_count": 27,
   "metadata": {},
   "outputs": [],
   "source": [
    "import statsmodels.api as sm"
   ]
  },
  {
   "cell_type": "code",
   "execution_count": 28,
   "metadata": {},
   "outputs": [
    {
     "data": {
      "text/html": [
       "<div>\n",
       "<style scoped>\n",
       "    .dataframe tbody tr th:only-of-type {\n",
       "        vertical-align: middle;\n",
       "    }\n",
       "\n",
       "    .dataframe tbody tr th {\n",
       "        vertical-align: top;\n",
       "    }\n",
       "\n",
       "    .dataframe thead th {\n",
       "        text-align: right;\n",
       "    }\n",
       "</style>\n",
       "<table border=\"1\" class=\"dataframe\">\n",
       "  <thead>\n",
       "    <tr style=\"text-align: right;\">\n",
       "      <th></th>\n",
       "      <th>Gender</th>\n",
       "      <th>Age Range</th>\n",
       "      <th>Head Size(cm^3)</th>\n",
       "      <th>Brain Weight(grams)</th>\n",
       "    </tr>\n",
       "  </thead>\n",
       "  <tbody>\n",
       "    <tr>\n",
       "      <th>0</th>\n",
       "      <td>1</td>\n",
       "      <td>1</td>\n",
       "      <td>4512</td>\n",
       "      <td>1530</td>\n",
       "    </tr>\n",
       "    <tr>\n",
       "      <th>1</th>\n",
       "      <td>1</td>\n",
       "      <td>1</td>\n",
       "      <td>3738</td>\n",
       "      <td>1297</td>\n",
       "    </tr>\n",
       "    <tr>\n",
       "      <th>2</th>\n",
       "      <td>1</td>\n",
       "      <td>1</td>\n",
       "      <td>4261</td>\n",
       "      <td>1335</td>\n",
       "    </tr>\n",
       "    <tr>\n",
       "      <th>3</th>\n",
       "      <td>1</td>\n",
       "      <td>1</td>\n",
       "      <td>3777</td>\n",
       "      <td>1282</td>\n",
       "    </tr>\n",
       "    <tr>\n",
       "      <th>4</th>\n",
       "      <td>1</td>\n",
       "      <td>1</td>\n",
       "      <td>4177</td>\n",
       "      <td>1590</td>\n",
       "    </tr>\n",
       "  </tbody>\n",
       "</table>\n",
       "</div>"
      ],
      "text/plain": [
       "   Gender  Age Range  Head Size(cm^3)  Brain Weight(grams)\n",
       "0       1          1             4512                 1530\n",
       "1       1          1             3738                 1297\n",
       "2       1          1             4261                 1335\n",
       "3       1          1             3777                 1282\n",
       "4       1          1             4177                 1590"
      ]
     },
     "execution_count": 28,
     "metadata": {},
     "output_type": "execute_result"
    }
   ],
   "source": [
    "original_data = pd.read_csv(\"headbrain.csv\")\n",
    "original_data.head()"
   ]
  },
  {
   "cell_type": "code",
   "execution_count": 29,
   "metadata": {},
   "outputs": [
    {
     "name": "stdout",
     "output_type": "stream",
     "text": [
      "                             OLS Regression Results                            \n",
      "===============================================================================\n",
      "Dep. Variable:     Brain Weight(grams)   R-squared:                       0.654\n",
      "Model:                             OLS   Adj. R-squared:                  0.652\n",
      "Method:                  Least Squares   F-statistic:                     353.3\n",
      "Date:                 Sat, 10 Oct 2020   Prob (F-statistic):           5.88e-45\n",
      "Time:                         09:56:06   Log-Likelihood:                -1077.7\n",
      "No. Observations:                  189   AIC:                             2159.\n",
      "Df Residuals:                      187   BIC:                             2166.\n",
      "Df Model:                            1                                         \n",
      "Covariance Type:             nonrobust                                         \n",
      "===================================================================================\n",
      "                      coef    std err          t      P>|t|      [0.025      0.975]\n",
      "-----------------------------------------------------------------------------------\n",
      "const             305.5654     52.341      5.838      0.000     202.310     408.821\n",
      "Head Size(cm^3)     0.2697      0.014     18.797      0.000       0.241       0.298\n",
      "==============================================================================\n",
      "Omnibus:                        8.667   Durbin-Watson:                   2.107\n",
      "Prob(Omnibus):                  0.013   Jarque-Bera (JB):                9.355\n",
      "Skew:                           0.399   Prob(JB):                      0.00930\n",
      "Kurtosis:                       3.742   Cond. No.                     3.60e+04\n",
      "==============================================================================\n",
      "\n",
      "Warnings:\n",
      "[1] Standard Errors assume that the covariance matrix of the errors is correctly specified.\n",
      "[2] The condition number is large, 3.6e+04. This might indicate that there are\n",
      "strong multicollinearity or other numerical problems.\n"
     ]
    }
   ],
   "source": [
    "X = original_data[\"Head Size(cm^3)\"]\n",
    "Y = original_data[\"Brain Weight(grams)\"]\n",
    "\n",
    "from sklearn.model_selection import train_test_split\n",
    "X_train, X_test, Y_train, Y_test = train_test_split(X, Y, train_size=0.8, random_state = 101)\n",
    "\n",
    "X_train = sm.add_constant(X_train)\n",
    "model = sm.OLS(Y_train, X_train)\n",
    "results = model.fit()\n",
    "print(results.summary())"
   ]
  }
 ],
 "metadata": {
  "kernelspec": {
   "display_name": "Python 3",
   "language": "python",
   "name": "python3"
  },
  "language_info": {
   "codemirror_mode": {
    "name": "ipython",
    "version": 3
   },
   "file_extension": ".py",
   "mimetype": "text/x-python",
   "name": "python",
   "nbconvert_exporter": "python",
   "pygments_lexer": "ipython3",
   "version": "3.7.6"
  }
 },
 "nbformat": 4,
 "nbformat_minor": 4
}
